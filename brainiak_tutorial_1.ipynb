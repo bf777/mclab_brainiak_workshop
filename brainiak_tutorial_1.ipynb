{
 "cells": [
  {
   "cell_type": "code",
   "execution_count": 3,
   "metadata": {
    "collapsed": true,
    "pycharm": {
     "name": "#%%\n"
    }
   },
   "outputs": [
    {
     "data": {
      "application/javascript": "IPython.notebook.set_autosave_interval(5000)"
     },
     "metadata": {},
     "output_type": "display_data"
    },
    {
     "name": "stdout",
     "output_type": "stream",
     "text": [
      "Autosaving every 5 seconds\n"
     ]
    }
   ],
   "source": [
    "# suppress warnings\n",
    "import warnings\n",
    "import sys\n",
    "if not sys.warnoptions:\n",
    "    warnings.simplefilter(\"ignore\")\n",
    "\n",
    "# The plotting tool we will be using in this course\n",
    "import matplotlib.pyplot as plt\n",
    "\n",
    "# Module essential for data organization and manipulation\n",
    "import numpy as np #numpy's \"nickname\" is np\n",
    "\n",
    "# Import a function from BrainIAK to simulate fMRI data\n",
    "import brainiak.utils.fmrisim as sim\n",
    "\n",
    "# display the plots inline\n",
    "%matplotlib inline\n",
    "# autosave for every 5 secs\n",
    "%autosave 5"
   ]
  },
  {
   "cell_type": "code",
   "execution_count": 4,
   "outputs": [],
   "source": [
    "# Set the size (in terms of X, Y, Z) of the volume we want to create\n",
    "dimensions = np.asarray([64, 64, 64])\n",
    "\n",
    "# Generate an anatomical image with the size above of brain voxels in gray matter\n",
    "# This outputs variables for two versions of the image, binary (mask) and probabilistic (template)\n",
    "mask, template = sim.mask_brain(dimensions, mask_self=False)"
   ],
   "metadata": {
    "collapsed": false,
    "pycharm": {
     "name": "#%%\n"
    }
   }
  },
  {
   "cell_type": "code",
   "execution_count": 6,
   "outputs": [
    {
     "data": {
      "text/plain": "<Figure size 432x288 with 1 Axes>",
      "image/png": "[encoded data removed]"
     },
     "metadata": {
      "needs_background": "light"
     },
     "output_type": "display_data"
    }
   ],
   "source": [
    "# Get an axial (a.k.a. transverse or horizontal) slice halfway through the brain\n",
    "mid_idx = dimensions[2] // 2\n",
    "axial_slice = template[:, :, mid_idx]\n",
    "\n",
    "# imshow can visualize a 2d array\n",
    "plt.imshow(axial_slice)\n",
    "plt.title('An axial brain slice');"
   ],
   "metadata": {
    "collapsed": false,
    "pycharm": {
     "name": "#%%\n"
    }
   }
  },
  {
   "cell_type": "code",
   "execution_count": 7,
   "outputs": [
    {
     "data": {
      "text/plain": "<Figure size 432x288 with 0 Axes>"
     },
     "metadata": {},
     "output_type": "display_data"
    },
    {
     "data": {
      "text/plain": "interactive(children=(IntSlider(value=31, continuous_update=False, description='x', max=63), IntSlider(value=3…",
      "application/vnd.jupyter.widget-view+json": {
       "version_major": 2,
       "version_minor": 0,
       "model_id": "3eca363b80544b789212a5743f1910f9"
      }
     },
     "metadata": {},
     "output_type": "display_data"
    }
   ],
   "source": [
    "# Load in the new variable\n",
    "from niwidgets import NiftiWidget\n",
    "import nibabel as nib\n",
    "\n",
    "template_nii = nib.Nifti1Image(template, np.eye(4))\n",
    "viewer = NiftiWidget(template_nii)\n",
    "viewer.nifti_plotter();"
   ],
   "metadata": {
    "collapsed": false,
    "pycharm": {
     "name": "#%%\n"
    }
   }
  },
  {
   "cell_type": "code",
   "execution_count": 8,
   "outputs": [
    {
     "name": "stdout",
     "output_type": "stream",
     "text": [
      "Help on function mask_brain in module brainiak.utils.fmrisim:\n",
      "\n",
      "mask_brain(volume, template_name=None, mask_threshold=None, mask_self=True)\n",
      "    Mask the simulated volume\n",
      "    This creates a mask specifying the approximate likelihood that a voxel is\n",
      "    part of the brain. All values are bounded to the range of 0 to 1. An\n",
      "    appropriate threshold to isolate brain voxels is >0.2. Critically,\n",
      "    the data that should be used to create a template shouldn't already be\n",
      "    masked/skull stripped. If it is then it will give in accurate estimates\n",
      "    of non-brain noise and corrupt estimations of SNR.\n",
      "    \n",
      "    Parameters\n",
      "    ----------\n",
      "    \n",
      "    volume : multidimensional array\n",
      "        Either numpy array of a volume or a tuple describing the dimensions\n",
      "        of the mask to be created\n",
      "    \n",
      "    template_name : str\n",
      "        What is the path to the template to be loaded? If empty then it\n",
      "        defaults to an MNI152 grey matter mask. This is ignored if mask_self\n",
      "        is True.\n",
      "    \n",
      "    mask_threshold : float\n",
      "        What is the threshold (0 -> 1) for including a voxel in the mask? If\n",
      "        None then the program will try and identify the last wide peak in a\n",
      "        histogram of the template (assumed to be the brain voxels) and takes\n",
      "        the minima before that peak as the threshold. Won't work when the\n",
      "        data is not bimodal.\n",
      "    \n",
      "    mask_self : bool or None\n",
      "        If set to true then it makes a mask from the volume supplied (by\n",
      "        averaging across time points and changing the range). If it is set\n",
      "        to false then it will use the template_name as an input.\n",
      "    \n",
      "    Returns\n",
      "    ----------\n",
      "    \n",
      "    mask : 3 dimensional array, binary\n",
      "        The masked brain, thresholded to distinguish brain and non-brain\n",
      "    \n",
      "    template : 3 dimensional array, float\n",
      "        A continuous (0 -> 1) volume describing the likelihood a voxel is in\n",
      "        the brain. This can be used to contrast the brain and non brain.\n",
      "\n"
     ]
    }
   ],
   "source": [
    "help(sim.mask_brain)"
   ],
   "metadata": {
    "collapsed": false,
    "pycharm": {
     "name": "#%%\n"
    }
   }
  }
 ],
 "metadata": {
  "kernelspec": {
   "display_name": "Python 3",
   "language": "python",
   "name": "python3"
  },
  "language_info": {
   "codemirror_mode": {
    "name": "ipython",
    "version": 2
   },
   "file_extension": ".py",
   "mimetype": "text/x-python",
   "name": "python",
   "nbconvert_exporter": "python",
   "pygments_lexer": "ipython2",
   "version": "2.7.6"
  }
 },
 "nbformat": 4,
 "nbformat_minor": 0
}